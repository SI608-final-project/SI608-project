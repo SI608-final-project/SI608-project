{
 "cells": [
  {
   "cell_type": "code",
   "execution_count": 2,
   "metadata": {},
   "outputs": [],
   "source": [
    "import pandas as pd\n",
    "import numpy as np\n",
    "import tensorflow as tf\n",
    "from tensorflow import keras\n",
    "from tensorflow.keras import layers\n",
    "import matplotlib.pyplot as plt"
   ]
  },
  {
   "cell_type": "code",
   "execution_count": 3,
   "metadata": {},
   "outputs": [
    {
     "data": {
      "text/html": [
       "<div>\n",
       "<style scoped>\n",
       "    .dataframe tbody tr th:only-of-type {\n",
       "        vertical-align: middle;\n",
       "    }\n",
       "\n",
       "    .dataframe tbody tr th {\n",
       "        vertical-align: top;\n",
       "    }\n",
       "\n",
       "    .dataframe thead th {\n",
       "        text-align: right;\n",
       "    }\n",
       "</style>\n",
       "<table border=\"1\" class=\"dataframe\">\n",
       "  <thead>\n",
       "    <tr style=\"text-align: right;\">\n",
       "      <th></th>\n",
       "      <th>userId</th>\n",
       "      <th>movieId</th>\n",
       "      <th>rating</th>\n",
       "      <th>timestamp</th>\n",
       "    </tr>\n",
       "  </thead>\n",
       "  <tbody>\n",
       "    <tr>\n",
       "      <th>0</th>\n",
       "      <td>196</td>\n",
       "      <td>242</td>\n",
       "      <td>3</td>\n",
       "      <td>881250949</td>\n",
       "    </tr>\n",
       "    <tr>\n",
       "      <th>1</th>\n",
       "      <td>186</td>\n",
       "      <td>302</td>\n",
       "      <td>3</td>\n",
       "      <td>891717742</td>\n",
       "    </tr>\n",
       "    <tr>\n",
       "      <th>2</th>\n",
       "      <td>22</td>\n",
       "      <td>377</td>\n",
       "      <td>1</td>\n",
       "      <td>878887116</td>\n",
       "    </tr>\n",
       "    <tr>\n",
       "      <th>3</th>\n",
       "      <td>244</td>\n",
       "      <td>51</td>\n",
       "      <td>2</td>\n",
       "      <td>880606923</td>\n",
       "    </tr>\n",
       "    <tr>\n",
       "      <th>4</th>\n",
       "      <td>166</td>\n",
       "      <td>346</td>\n",
       "      <td>1</td>\n",
       "      <td>886397596</td>\n",
       "    </tr>\n",
       "    <tr>\n",
       "      <th>...</th>\n",
       "      <td>...</td>\n",
       "      <td>...</td>\n",
       "      <td>...</td>\n",
       "      <td>...</td>\n",
       "    </tr>\n",
       "    <tr>\n",
       "      <th>99995</th>\n",
       "      <td>880</td>\n",
       "      <td>476</td>\n",
       "      <td>3</td>\n",
       "      <td>880175444</td>\n",
       "    </tr>\n",
       "    <tr>\n",
       "      <th>99996</th>\n",
       "      <td>716</td>\n",
       "      <td>204</td>\n",
       "      <td>5</td>\n",
       "      <td>879795543</td>\n",
       "    </tr>\n",
       "    <tr>\n",
       "      <th>99997</th>\n",
       "      <td>276</td>\n",
       "      <td>1090</td>\n",
       "      <td>1</td>\n",
       "      <td>874795795</td>\n",
       "    </tr>\n",
       "    <tr>\n",
       "      <th>99998</th>\n",
       "      <td>13</td>\n",
       "      <td>225</td>\n",
       "      <td>2</td>\n",
       "      <td>882399156</td>\n",
       "    </tr>\n",
       "    <tr>\n",
       "      <th>99999</th>\n",
       "      <td>12</td>\n",
       "      <td>203</td>\n",
       "      <td>3</td>\n",
       "      <td>879959583</td>\n",
       "    </tr>\n",
       "  </tbody>\n",
       "</table>\n",
       "<p>100000 rows × 4 columns</p>\n",
       "</div>"
      ],
      "text/plain": [
       "       userId  movieId  rating  timestamp\n",
       "0         196      242       3  881250949\n",
       "1         186      302       3  891717742\n",
       "2          22      377       1  878887116\n",
       "3         244       51       2  880606923\n",
       "4         166      346       1  886397596\n",
       "...       ...      ...     ...        ...\n",
       "99995     880      476       3  880175444\n",
       "99996     716      204       5  879795543\n",
       "99997     276     1090       1  874795795\n",
       "99998      13      225       2  882399156\n",
       "99999      12      203       3  879959583\n",
       "\n",
       "[100000 rows x 4 columns]"
      ]
     },
     "execution_count": 3,
     "metadata": {},
     "output_type": "execute_result"
    }
   ],
   "source": [
    "rating_columns = ['userId', 'movieId', 'rating', 'timestamp']\n",
    "rating_table = pd.read_table('./ml-100k/u.data', sep='\\t', header=None, names=rating_columns, engine = 'python')\n",
    "df=rating_table\n",
    "df"
   ]
  },
  {
   "cell_type": "code",
   "execution_count": 15,
   "metadata": {},
   "outputs": [],
   "source": [
    "userid_list = df[\"userId\"].unique().tolist()\n",
    "userid_dict = {x: i for i, x in enumerate(userid_list)}\n",
    "movieid_list = df[\"movieId\"].unique().tolist()\n",
    "movieid_dict = {x: i for i, x in enumerate(movieid_list)}\n",
    "df[\"user\"] = df[\"userId\"].map(userid_dict)\n",
    "df[\"movie\"] = df[\"movieId\"].map(movieid_dict)\n",
    "df[\"rating\"] = df[\"rating\"].values.astype(np.float32)\n",
    "min_rating = min(df[\"rating\"])\n"
   ]
  },
  {
   "cell_type": "code",
   "execution_count": 19,
   "metadata": {},
   "outputs": [],
   "source": [
    "x = df[[\"user\", \"movie\"]].values\n",
    "min_rating = min(df[\"rating\"])\n",
    "max_rating=max(df['rating'])\n",
    "y = df[\"rating\"].apply(lambda x: (x - min_rating) / (max_rating - min_rating)).values\n",
    "indice_75 = int(0.75 * df.shape[0])\n",
    "indice_85=int(0.9 * df.shape[0])\n",
    "x_train, x_val,x_test, y_train, y_val,y_test = (\n",
    "    x[:indice_75],\n",
    "    x[indice_75:indice_85],\n",
    "    x[indice_85:],\n",
    "    y[:indice_75],\n",
    "    y[indice_75:indice_85],\n",
    "    y[indice_85:],\n",
    ")"
   ]
  },
  {
   "cell_type": "code",
   "execution_count": 26,
   "metadata": {},
   "outputs": [
    {
     "name": "stderr",
     "output_type": "stream",
     "text": [
      "D:\\anaconda\\lib\\site-packages\\keras\\optimizer_v2\\adam.py:105: UserWarning: The `lr` argument is deprecated, use `learning_rate` instead.\n",
      "  super(Adam, self).__init__(name, **kwargs)\n"
     ]
    }
   ],
   "source": [
    "from keras import backend as K\n",
    "class NCF(keras.Model):\n",
    "    def __init__(self, users_len, movies_len, embedding_size, **kwargs):\n",
    "        super(NCF, self).__init__(**kwargs)\n",
    "        self.embedding_size = embedding_size\n",
    "        self.user_embedding = layers.Embedding(\n",
    "            users_len,\n",
    "            50,\n",
    "            embeddings_initializer=\"uniform\",\n",
    "        )\n",
    "        self.user_bias = layers.Embedding(\n",
    "            users_len, \n",
    "            1, \n",
    "            embeddings_initializer=\"uniform\",\n",
    "        )\n",
    "        self.movie_embedding = layers.Embedding(\n",
    "            movies_len,\n",
    "            50,\n",
    "            embeddings_initializer=\"uniform\",\n",
    "        )\n",
    "        self.movie_bias = layers.Embedding(\n",
    "            movies_len, \n",
    "            1, \n",
    "            embeddings_initializer=\"uniform\",\n",
    "            \n",
    "        )\n",
    "\n",
    "    def call(self, inputs):\n",
    "        user_vector = self.user_embedding(inputs[:, 0])\n",
    "        user_bias = self.user_bias(inputs[:, 0])\n",
    "        movie_vector = self.movie_embedding(inputs[:, 1])\n",
    "        movie_bias = self.movie_bias(inputs[:, 1])\n",
    "        dot_user_movie = tf.tensordot(user_vector, movie_vector, 2)\n",
    "        x = dot_user_movie + user_bias + movie_bias\n",
    "        return tf.nn.sigmoid(x)\n",
    "\n",
    "def NMSE_metric(y_true, y_pred):\n",
    "    fenzi = K.mean(K.square(y_true - y_pred))\n",
    "    fenmu=K.mean(K.square(y_true))\n",
    "    return float(fenzi)/float(fenmu)\n",
    "\n",
    "model = NCF(len(userid_list), len(movieid_list), 50)\n",
    "model.compile(\n",
    "    loss=tf.keras.losses.BinaryCrossentropy(), optimizer=keras.optimizers.Adam(lr=0.001),metrics=[NMSE_metric]\n",
    ")\n"
   ]
  },
  {
   "cell_type": "code",
   "execution_count": 27,
   "metadata": {},
   "outputs": [
    {
     "name": "stdout",
     "output_type": "stream",
     "text": [
      "Epoch 1/8\n",
      "1172/1172 [==============================] - 2s 1ms/step - loss: 0.6522 - NMSE_metric: 0.1621 - val_loss: 0.6400 - val_NMSE_metric: 0.1459\n",
      "Epoch 2/8\n",
      "1172/1172 [==============================] - 1s 989us/step - loss: 0.6285 - NMSE_metric: 0.1392 - val_loss: 0.6312 - val_NMSE_metric: 0.1369\n",
      "Epoch 3/8\n",
      "1172/1172 [==============================] - 1s 952us/step - loss: 0.6198 - NMSE_metric: 0.1310 - val_loss: 0.6263 - val_NMSE_metric: 0.1324\n",
      "Epoch 4/8\n",
      "1172/1172 [==============================] - 1s 971us/step - loss: 0.6164 - NMSE_metric: 0.1279 - val_loss: 0.6225 - val_NMSE_metric: 0.1292\n",
      "Epoch 5/8\n",
      "1172/1172 [==============================] - 1s 995us/step - loss: 0.6155 - NMSE_metric: 0.1272 - val_loss: 0.6229 - val_NMSE_metric: 0.1298\n",
      "Epoch 6/8\n",
      "1172/1172 [==============================] - 1s 968us/step - loss: 0.6154 - NMSE_metric: 0.1271 - val_loss: 0.6242 - val_NMSE_metric: 0.1311\n",
      "Epoch 7/8\n",
      "1172/1172 [==============================] - 1s 979us/step - loss: 0.6152 - NMSE_metric: 0.1269 - val_loss: 0.6236 - val_NMSE_metric: 0.1304\n",
      "Epoch 8/8\n",
      "1172/1172 [==============================] - 1s 1ms/step - loss: 0.6156 - NMSE_metric: 0.1272 - val_loss: 0.6223 - val_NMSE_metric: 0.1292\n"
     ]
    }
   ],
   "source": [
    "history = model.fit(\n",
    "    x=x_train,\n",
    "    y=y_train,\n",
    "    batch_size=64,\n",
    "    epochs=8,\n",
    "    verbose=1,\n",
    "    validation_data=(x_val, y_val),\n",
    ")\n"
   ]
  },
  {
   "cell_type": "code",
   "execution_count": 22,
   "metadata": {},
   "outputs": [
    {
     "data": {
      "image/png": "[encoded data removed]",
      "text/plain": [
       "<Figure size 432x288 with 1 Axes>"
      ]
     },
     "metadata": {
      "needs_background": "light"
     },
     "output_type": "display_data"
    }
   ],
   "source": [
    "plt.plot(history.history[\"NMSE_metric\"])\n",
    "plt.title(\"model loss\")\n",
    "plt.ylabel(\"NMSE\")\n",
    "plt.xlabel(\"epoch\")\n",
    "plt.legend([\"NMSE_loss\"], loc=\"upper left\")\n",
    "plt.show()"
   ]
  },
  {
   "cell_type": "code",
   "execution_count": 25,
   "metadata": {},
   "outputs": [
    {
     "name": "stdout",
     "output_type": "stream",
     "text": [
      "157/157 [==============================] - 0s 588us/step - loss: 0.6158 - NMSE_metric: 0.1275\n",
      "Test score: 0.6158482432365417\n",
      "Test accuracy: 0.12750530242919922\n"
     ]
    }
   ],
   "source": [
    "score, acc = model.evaluate(x_test, y_test,\n",
    "                            batch_size=64)\n",
    "print('Test score:', score)\n",
    "print('Test accuracy:', acc)"
   ]
  }
 ],
 "metadata": {
  "interpreter": {
   "hash": "cc5f70855ac006f3de45a3cc3b9e7d8d53845e50458809cb162b0174266dec97"
  },
  "kernelspec": {
   "display_name": "Python 3.8.11 64-bit ('base': conda)",
   "language": "python",
   "name": "python3"
  },
  "language_info": {
   "codemirror_mode": {
    "name": "ipython",
    "version": 3
   },
   "file_extension": ".py",
   "mimetype": "text/x-python",
   "name": "python",
   "nbconvert_exporter": "python",
   "pygments_lexer": "ipython3",
   "version": "3.8.11"
  },
  "orig_nbformat": 4
 },
 "nbformat": 4,
 "nbformat_minor": 2
}

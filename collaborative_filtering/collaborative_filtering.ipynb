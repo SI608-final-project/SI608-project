{
 "cells": [
  {
   "cell_type": "markdown",
   "source": [
    "# 协同过滤算法(item-item, user-item)"
   ],
   "metadata": {}
  },
  {
   "cell_type": "markdown",
   "source": [
    "# load data"
   ],
   "metadata": {}
  },
  {
   "cell_type": "code",
   "execution_count": 1,
   "source": [
    "import pandas as pd"
   ],
   "outputs": [],
   "metadata": {}
  },
  {
   "cell_type": "code",
   "execution_count": 2,
   "source": [
    "header = ['user_id', 'item_id', 'rating', 'timestamp']\r\n",
    "df = pd.read_csv('ml-100k/u.data', sep='\\t', names=header)\r\n",
    "print(df.head(5))\r\n",
    "print(len(df))\r\n",
    "\r\n",
    "n_users = df.user_id.unique().shape[0]  \r\n",
    "n_items = df.item_id.unique().shape[0]\r\n",
    "print ('Number of users = ' + str(n_users) + ' | Number of movies = ' + str(n_items))\r\n",
    "#split\r\n",
    "from sklearn import model_selection as cv\r\n",
    "train_data, test_data = cv.train_test_split(df, test_size=0.25)"
   ],
   "outputs": [
    {
     "output_type": "stream",
     "name": "stdout",
     "text": [
      "   user_id  item_id  rating  timestamp\n",
      "0      196      242       3  881250949\n",
      "1      186      302       3  891717742\n",
      "2       22      377       1  878887116\n",
      "3      244       51       2  880606923\n",
      "4      166      346       1  886397596\n",
      "100000\n",
      "Number of users = 943 | Number of movies = 1682\n"
     ]
    }
   ],
   "metadata": {}
  },
  {
   "cell_type": "code",
   "execution_count": 3,
   "source": [
    "import numpy as np"
   ],
   "outputs": [],
   "metadata": {}
  },
  {
   "cell_type": "code",
   "execution_count": 4,
   "source": [
    "train_data_matrix = np.zeros((n_users, n_items))\r\n",
    "print(train_data_matrix.shape)\r\n",
    "for line in train_data.itertuples():\r\n",
    "    train_data_matrix[line[1]-1, line[2]-1] = line[3]\r\n",
    "test_data_matrix = np.zeros((n_users, n_items))\r\n",
    "for line in test_data.itertuples():\r\n",
    "    test_data_matrix[line[1]-1, line[2]-1] = line[3]"
   ],
   "outputs": [
    {
     "output_type": "stream",
     "name": "stdout",
     "text": [
      "(943, 1682)\n"
     ]
    }
   ],
   "metadata": {}
  },
  {
   "cell_type": "code",
   "execution_count": 5,
   "source": [
    "from sklearn.metrics.pairwise import pairwise_distances\r\n",
    "user_similarity = pairwise_distances(train_data_matrix, metric='cosine')\r\n",
    "item_similarity = pairwise_distances(train_data_matrix.T, metric='cosine')\r\n",
    "print(user_similarity.shape)\r\n",
    "print(item_similarity.shape)"
   ],
   "outputs": [
    {
     "output_type": "stream",
     "name": "stdout",
     "text": [
      "(943, 943)\n",
      "(1682, 1682)\n"
     ]
    }
   ],
   "metadata": {}
  },
  {
   "cell_type": "markdown",
   "source": [
    "# predict"
   ],
   "metadata": {}
  },
  {
   "cell_type": "code",
   "execution_count": 6,
   "source": [
    "mean_matrix=train_data_matrix.mean(axis=1)\r\n",
    "mean_matrix_T=mean_matrix[:, np.newaxis]\r\n",
    "mean_matrix_T.shape\r\n",
    "print('mean_matrix_T.shape',mean_matrix_T.shape)\r\n",
    "p=train_data_matrix-mean_matrix_T\r\n",
    "p_0=p[:,2][:,np.newaxis]\r\n",
    "print('p_0.shape',p_0.shape)\r\n",
    "p_1=(train_data_matrix[:,2][:,np.newaxis]-mean_matrix_T)\r\n",
    "print('train_data_matrix[:,2].shape',train_data_matrix[:,2][:,np.newaxis].shape)\r\n",
    "print(p_1.shape)\r\n",
    "print(p_0[:2])\r\n",
    "print(p_1[:2])\r\n"
   ],
   "outputs": [
    {
     "output_type": "stream",
     "name": "stdout",
     "text": [
      "mean_matrix_T.shape (943, 1)\n",
      "p_0.shape (943, 1)\n",
      "train_data_matrix[:,2].shape (943, 1)\n",
      "(943, 1)\n",
      "[[ 3.55588585]\n",
      " [-0.10166468]]\n",
      "[[ 3.55588585]\n",
      " [-0.10166468]]\n"
     ]
    }
   ],
   "metadata": {}
  },
  {
   "cell_type": "code",
   "execution_count": 7,
   "source": [
    "def predict(ratings, similarity, type='user'):\r\n",
    "    if type == 'user':\r\n",
    "        mean_user_rating = ratings.mean(axis=1)\r\n",
    "        ratings_diff = (ratings - mean_user_rating[:, np.newaxis])\r\n",
    "        pred = mean_user_rating[:, np.newaxis] + similarity.dot(ratings_diff) / np.array([np.abs(similarity).sum(axis=1)]).T\r\n",
    "    elif type == 'item':\r\n",
    "        pred = ratings.dot(similarity) / np.array([np.abs(similarity).sum(axis=1)])    \r\n",
    "    return pred"
   ],
   "outputs": [],
   "metadata": {}
  },
  {
   "cell_type": "code",
   "execution_count": 8,
   "source": [
    "item_prediction = predict(train_data_matrix, item_similarity, type='item')\r\n",
    "user_prediction = predict(train_data_matrix, user_similarity, type='user')"
   ],
   "outputs": [],
   "metadata": {}
  },
  {
   "cell_type": "markdown",
   "source": [
    "# NMSE"
   ],
   "metadata": {}
  },
  {
   "cell_type": "code",
   "execution_count": 9,
   "source": [
    "from sklearn.metrics import mean_squared_error\r\n",
    "from math import sqrt\r\n",
    "def rmse(prediction, ground_truth):\r\n",
    "    prediction = prediction[ground_truth.nonzero()].flatten()\r\n",
    "    ground_truth = ground_truth[ground_truth.nonzero()].flatten()\r\n",
    "    return sqrt(mean_squared_error(prediction, ground_truth))\r\n",
    "\r\n",
    "print ('User-based CF RMSE: ' + str(rmse(user_prediction, test_data_matrix)))\r\n",
    "print ('Item-based CF RMSE: ' + str(rmse(item_prediction, test_data_matrix)))   "
   ],
   "outputs": [
    {
     "output_type": "stream",
     "name": "stdout",
     "text": [
      "User-based CF RMSE: 3.122628847248923\n",
      "Item-based CF RMSE: 3.44787300609786\n"
     ]
    }
   ],
   "metadata": {}
  }
 ],
 "metadata": {
  "orig_nbformat": 4,
  "language_info": {
   "name": "python",
   "version": "3.8.11",
   "mimetype": "text/x-python",
   "codemirror_mode": {
    "name": "ipython",
    "version": 3
   },
   "pygments_lexer": "ipython3",
   "nbconvert_exporter": "python",
   "file_extension": ".py"
  },
  "kernelspec": {
   "name": "python3",
   "display_name": "Python 3.8.11 64-bit ('base': conda)"
  },
  "interpreter": {
   "hash": "cc5f70855ac006f3de45a3cc3b9e7d8d53845e50458809cb162b0174266dec97"
  }
 },
 "nbformat": 4,
 "nbformat_minor": 2
}
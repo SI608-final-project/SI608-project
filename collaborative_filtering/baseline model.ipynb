{
 "cells": [
  {
   "cell_type": "code",
   "execution_count": 21,
   "id": "informed-peripheral",
   "metadata": {},
   "outputs": [],
   "source": [
    "import pandas as pd\n",
    "import numpy as np"
   ]
  },
  {
   "cell_type": "code",
   "execution_count": 22,
   "id": "generous-boards",
   "metadata": {},
   "outputs": [],
   "source": [
    "df = pd.read_csv('ml-100k/u.data', sep='\\t', names=['user_id', 'item_id', 'rating', 'timestamp'])"
   ]
  },
  {
   "cell_type": "code",
   "execution_count": 23,
   "id": "under-blake",
   "metadata": {},
   "outputs": [],
   "source": [
    "n_users = df.user_id.unique().shape[0]  \n",
    "n_items = df.item_id.unique().shape[0]"
   ]
  },
  {
   "cell_type": "code",
   "execution_count": 24,
   "id": "weighted-transsexual",
   "metadata": {},
   "outputs": [],
   "source": [
    "from sklearn import model_selection as cv"
   ]
  },
  {
   "cell_type": "code",
   "execution_count": 25,
   "id": "threatened-morning",
   "metadata": {},
   "outputs": [],
   "source": [
    "train_data, test_data = cv.train_test_split(df, test_size=0.25, random_state=42)"
   ]
  },
  {
   "cell_type": "code",
   "execution_count": 26,
   "id": "adaptive-times",
   "metadata": {},
   "outputs": [
    {
     "data": {
      "text/html": [
       "<div>\n",
       "<style scoped>\n",
       "    .dataframe tbody tr th:only-of-type {\n",
       "        vertical-align: middle;\n",
       "    }\n",
       "\n",
       "    .dataframe tbody tr th {\n",
       "        vertical-align: top;\n",
       "    }\n",
       "\n",
       "    .dataframe thead th {\n",
       "        text-align: right;\n",
       "    }\n",
       "</style>\n",
       "<table border=\"1\" class=\"dataframe\">\n",
       "  <thead>\n",
       "    <tr style=\"text-align: right;\">\n",
       "      <th></th>\n",
       "      <th>user_id</th>\n",
       "      <th>item_id</th>\n",
       "      <th>rating</th>\n",
       "      <th>timestamp</th>\n",
       "    </tr>\n",
       "  </thead>\n",
       "  <tbody>\n",
       "    <tr>\n",
       "      <th>98980</th>\n",
       "      <td>811</td>\n",
       "      <td>901</td>\n",
       "      <td>4</td>\n",
       "      <td>886377771</td>\n",
       "    </tr>\n",
       "    <tr>\n",
       "      <th>69824</th>\n",
       "      <td>804</td>\n",
       "      <td>755</td>\n",
       "      <td>3</td>\n",
       "      <td>879445305</td>\n",
       "    </tr>\n",
       "    <tr>\n",
       "      <th>9928</th>\n",
       "      <td>52</td>\n",
       "      <td>287</td>\n",
       "      <td>5</td>\n",
       "      <td>882922357</td>\n",
       "    </tr>\n",
       "    <tr>\n",
       "      <th>75599</th>\n",
       "      <td>735</td>\n",
       "      <td>181</td>\n",
       "      <td>4</td>\n",
       "      <td>876698604</td>\n",
       "    </tr>\n",
       "    <tr>\n",
       "      <th>95621</th>\n",
       "      <td>897</td>\n",
       "      <td>96</td>\n",
       "      <td>5</td>\n",
       "      <td>879990430</td>\n",
       "    </tr>\n",
       "    <tr>\n",
       "      <th>...</th>\n",
       "      <td>...</td>\n",
       "      <td>...</td>\n",
       "      <td>...</td>\n",
       "      <td>...</td>\n",
       "    </tr>\n",
       "    <tr>\n",
       "      <th>6265</th>\n",
       "      <td>216</td>\n",
       "      <td>231</td>\n",
       "      <td>2</td>\n",
       "      <td>880245109</td>\n",
       "    </tr>\n",
       "    <tr>\n",
       "      <th>54886</th>\n",
       "      <td>343</td>\n",
       "      <td>276</td>\n",
       "      <td>5</td>\n",
       "      <td>876403078</td>\n",
       "    </tr>\n",
       "    <tr>\n",
       "      <th>76820</th>\n",
       "      <td>437</td>\n",
       "      <td>475</td>\n",
       "      <td>3</td>\n",
       "      <td>880140288</td>\n",
       "    </tr>\n",
       "    <tr>\n",
       "      <th>860</th>\n",
       "      <td>284</td>\n",
       "      <td>322</td>\n",
       "      <td>3</td>\n",
       "      <td>885329671</td>\n",
       "    </tr>\n",
       "    <tr>\n",
       "      <th>15795</th>\n",
       "      <td>222</td>\n",
       "      <td>200</td>\n",
       "      <td>3</td>\n",
       "      <td>878181647</td>\n",
       "    </tr>\n",
       "  </tbody>\n",
       "</table>\n",
       "<p>75000 rows × 4 columns</p>\n",
       "</div>"
      ],
      "text/plain": [
       "       user_id  item_id  rating  timestamp\n",
       "98980      811      901       4  886377771\n",
       "69824      804      755       3  879445305\n",
       "9928        52      287       5  882922357\n",
       "75599      735      181       4  876698604\n",
       "95621      897       96       5  879990430\n",
       "...        ...      ...     ...        ...\n",
       "6265       216      231       2  880245109\n",
       "54886      343      276       5  876403078\n",
       "76820      437      475       3  880140288\n",
       "860        284      322       3  885329671\n",
       "15795      222      200       3  878181647\n",
       "\n",
       "[75000 rows x 4 columns]"
      ]
     },
     "execution_count": 26,
     "metadata": {},
     "output_type": "execute_result"
    }
   ],
   "source": [
    "train_data"
   ]
  },
  {
   "cell_type": "code",
   "execution_count": 27,
   "id": "broken-lecture",
   "metadata": {},
   "outputs": [],
   "source": [
    "user_item_matrix = np.zeros((n_users, n_items))\n",
    "for row in train_data.itertuples():\n",
    "    user_item_matrix[row[1]-1, row[2]-1] = row[3]\n",
    "    \n",
    "test_data_matrix = np.zeros((n_users, n_items))\n",
    "for row in test_data.itertuples():\n",
    "    test_data_matrix[row[1]-1, row[2]-1] = row[3]"
   ]
  },
  {
   "cell_type": "code",
   "execution_count": 28,
   "id": "involved-watts",
   "metadata": {},
   "outputs": [],
   "source": [
    "from sklearn.metrics.pairwise import pairwise_distances"
   ]
  },
  {
   "cell_type": "code",
   "execution_count": 29,
   "id": "accredited-investigator",
   "metadata": {},
   "outputs": [],
   "source": [
    "item_similarity = np.ones((n_items, n_items)) - pairwise_distances(user_item_matrix.T, metric='cosine')\n",
    "user_similarity = np.ones((n_users,n_users))-pairwise_distances(user_item_matrix, metric='cosine')"
   ]
  },
  {
   "cell_type": "markdown",
   "id": "mexican-corps",
   "metadata": {},
   "source": [
    "### Collaborative Filtering"
   ]
  },
  {
   "cell_type": "code",
   "execution_count": 30,
   "id": "worse-attendance",
   "metadata": {},
   "outputs": [],
   "source": [
    "def cf_predict(ratings, similarity, type='user'):\n",
    "    if type == 'user':\n",
    "        mean_user_rating = ratings.mean(axis=1)\n",
    "        ratings_diff = (ratings - mean_user_rating[:, np.newaxis])\n",
    "        pred = mean_user_rating[:, np.newaxis] + similarity.dot(ratings_diff) / np.array([np.abs(similarity).sum(axis=1)]).T\n",
    "    elif type == 'item':\n",
    "        pred = ratings.dot(similarity) / np.array([np.abs(similarity).sum(axis=1)])    \n",
    "    return pred"
   ]
  },
  {
   "cell_type": "code",
   "execution_count": 31,
   "id": "seasonal-supplier",
   "metadata": {},
   "outputs": [
    {
     "data": {
      "text/plain": [
       "(943,)"
      ]
     },
     "execution_count": 31,
     "metadata": {},
     "output_type": "execute_result"
    }
   ],
   "source": [
    "user_similarity.sum(axis=1).shape"
   ]
  },
  {
   "cell_type": "markdown",
   "id": "expected-convergence",
   "metadata": {},
   "source": [
    "### A random walk method for alleviating the sparsity problem in collaborative filtering"
   ]
  },
  {
   "cell_type": "code",
   "execution_count": 32,
   "id": "industrial-threat",
   "metadata": {},
   "outputs": [],
   "source": [
    "alpha = 0.8\n",
    "beta = 0.8\n",
    "ones = np.eye(n_items)"
   ]
  },
  {
   "cell_type": "code",
   "execution_count": 44,
   "id": "apparent-fence",
   "metadata": {},
   "outputs": [],
   "source": [
    "def random_walk_predict(ratings, item_similarity):\n",
    "    transition_matrix = np.zeros((n_items, n_items))\n",
    "\n",
    "    for i in range(n_items):\n",
    "        sum_ = item_similarity[i].sum()\n",
    "        for j in range(n_items):\n",
    "            transition_matrix[i][j] = beta*item_similarity[i][j]/sum_+(1-beta)/n_items\n",
    "\n",
    "    p_tilde = np.linalg.pinv(ones-alpha*transition_matrix)\n",
    "    final_rating = alpha*np.dot(ratings, np.dot(transition_matrix, p_tilde))\n",
    "    print(transition_matrix)\n",
    "    from sklearn.preprocessing import MinMaxScaler\n",
    "    scaler = MinMaxScaler()\n",
    "    scaled_prediction = (scaler.fit_transform(final_rating.T)*5).T\n",
    "    return scaled_prediction"
   ]
  },
  {
   "cell_type": "code",
   "execution_count": 43,
   "id": "12950f50",
   "metadata": {},
   "outputs": [
    {
     "ename": "NameError",
     "evalue": "name 'transition_matrix' is not defined",
     "output_type": "error",
     "traceback": [
      "\u001b[0;31m---------------------------------------------------------------------------\u001b[0m",
      "\u001b[0;31mNameError\u001b[0m                                 Traceback (most recent call last)",
      "\u001b[0;32m<ipython-input-43-9dd827b86b3f>\u001b[0m in \u001b[0;36m<module>\u001b[0;34m\u001b[0m\n\u001b[0;32m----> 1\u001b[0;31m \u001b[0mtransition_matrix\u001b[0m\u001b[0;34m\u001b[0m\u001b[0;34m\u001b[0m\u001b[0m\n\u001b[0m",
      "\u001b[0;31mNameError\u001b[0m: name 'transition_matrix' is not defined"
     ]
    }
   ],
   "source": []
  },
  {
   "cell_type": "code",
   "execution_count": 34,
   "id": "ignored-farming",
   "metadata": {},
   "outputs": [],
   "source": [
    "user_based_prediction = cf_predict(user_item_matrix, user_similarity, type='user')\n",
    "item_based_prediction = cf_predict(user_item_matrix, item_similarity, type='item')"
   ]
  },
  {
   "cell_type": "code",
   "execution_count": 46,
   "id": "based-stations",
   "metadata": {},
   "outputs": [
    {
     "name": "stdout",
     "output_type": "stream",
     "text": [
      "[[3.75471545e-03 1.18899612e-03 1.03687883e-03 ... 1.18906064e-04\n",
      "  1.18906064e-04 1.18906064e-04]\n",
      " [1.24034577e-03 3.92918443e-03 8.37370468e-04 ... 1.18906064e-04\n",
      "  4.65613525e-04 1.18906064e-04]\n",
      " [1.44734878e-03 1.11102261e-03 5.38046139e-03 ... 1.18906064e-04\n",
      "  1.18906064e-04 1.18906064e-04]\n",
      " ...\n",
      " [1.18906064e-04 1.18906064e-04 1.18906064e-04 ... 4.88769708e-02\n",
      "  1.18906064e-04 1.18906064e-04]\n",
      " [1.18906064e-04 2.61679406e-03 1.18906064e-04 ... 1.18906064e-04\n",
      "  2.75704313e-02 1.18906064e-04]\n",
      " [1.18906064e-04 1.18906064e-04 1.18906064e-04 ... 1.18906064e-04\n",
      "  1.18906064e-04 8.00118906e-01]]\n"
     ]
    }
   ],
   "source": [
    "randomwork_based_prediction = random_walk_predict(user_item_matrix, item_similarity)"
   ]
  },
  {
   "cell_type": "code",
   "execution_count": 36,
   "id": "favorite-angle",
   "metadata": {},
   "outputs": [],
   "source": [
    "from sklearn.metrics import mean_squared_error\n",
    "from math import sqrt\n",
    "def rmse(prediction, test_data_matrix):\n",
    "    prediction = prediction[test_data_matrix.nonzero()].flatten()\n",
    "    truth = test_data_matrix[test_data_matrix.nonzero()].flatten()\n",
    "    return sqrt(mean_squared_error(prediction, truth))"
   ]
  },
  {
   "cell_type": "code",
   "execution_count": 45,
   "id": "grave-gothic",
   "metadata": {},
   "outputs": [
    {
     "name": "stdout",
     "output_type": "stream",
     "text": [
      "rmse for user based collaborative: 2.962115380864079\n",
      "rmse for item based collaborative: 3.166875880606639\n",
      "rmse for random walk: 1.3127336408309747\n"
     ]
    }
   ],
   "source": [
    "print('rmse for user based collaborative: {}'.format(rmse(user_based_prediction, test_data_matrix)))\n",
    "print('rmse for item based collaborative: {}'.format(rmse(item_based_prediction, test_data_matrix)))\n",
    "print('rmse for random walk: {}'.format(rmse(randomwork_based_prediction, test_data_matrix)))"
   ]
  },
  {
   "cell_type": "code",
   "execution_count": null,
   "id": "plastic-paper",
   "metadata": {},
   "outputs": [],
   "source": []
  }
 ],
 "metadata": {
  "kernelspec": {
   "display_name": "Python 3 (ipykernel)",
   "language": "python",
   "name": "python3"
  },
  "language_info": {
   "codemirror_mode": {
    "name": "ipython",
    "version": 3
   },
   "file_extension": ".py",
   "mimetype": "text/x-python",
   "name": "python",
   "nbconvert_exporter": "python",
   "pygments_lexer": "ipython3",
   "version": "3.9.5"
  }
 },
 "nbformat": 4,
 "nbformat_minor": 5
}

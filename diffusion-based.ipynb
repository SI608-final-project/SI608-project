{
 "cells": [
  {
   "cell_type": "code",
   "execution_count": 1,
   "id": "2848f982",
   "metadata": {},
   "outputs": [],
   "source": [
    "import pandas as pd\n",
    "import numpy as np"
   ]
  },
  {
   "cell_type": "code",
   "execution_count": 2,
   "id": "73d5b1a3",
   "metadata": {},
   "outputs": [],
   "source": [
    "df = pd.read_csv('ml-100k/u.data', sep='\\t', names=['user_id', 'item_id', 'rating', 'timestamp'])"
   ]
  },
  {
   "cell_type": "code",
   "execution_count": 9,
   "id": "fac1161a",
   "metadata": {},
   "outputs": [
    {
     "data": {
      "text/plain": [
       "100000"
      ]
     },
     "execution_count": 9,
     "metadata": {},
     "output_type": "execute_result"
    }
   ],
   "source": [
    "len(df)"
   ]
  },
  {
   "cell_type": "code",
   "execution_count": 40,
   "id": "b7209d8f",
   "metadata": {},
   "outputs": [],
   "source": [
    "df_movies = pd.read_csv('ml-10M100K/movies.dat',sep=\"::\", names=[\"MovieID\",\"Title\",\"Genres\"], engine='python')"
   ]
  },
  {
   "cell_type": "code",
   "execution_count": 42,
   "id": "3d55bbd7",
   "metadata": {},
   "outputs": [
    {
     "data": {
      "text/html": [
       "<div>\n",
       "<style scoped>\n",
       "    .dataframe tbody tr th:only-of-type {\n",
       "        vertical-align: middle;\n",
       "    }\n",
       "\n",
       "    .dataframe tbody tr th {\n",
       "        vertical-align: top;\n",
       "    }\n",
       "\n",
       "    .dataframe thead th {\n",
       "        text-align: right;\n",
       "    }\n",
       "</style>\n",
       "<table border=\"1\" class=\"dataframe\">\n",
       "  <thead>\n",
       "    <tr style=\"text-align: right;\">\n",
       "      <th></th>\n",
       "      <th>MovieID</th>\n",
       "      <th>Title</th>\n",
       "      <th>Genres</th>\n",
       "    </tr>\n",
       "  </thead>\n",
       "  <tbody>\n",
       "    <tr>\n",
       "      <th>0</th>\n",
       "      <td>1</td>\n",
       "      <td>Toy Story (1995)</td>\n",
       "      <td>Adventure|Animation|Children|Comedy|Fantasy</td>\n",
       "    </tr>\n",
       "    <tr>\n",
       "      <th>1</th>\n",
       "      <td>2</td>\n",
       "      <td>Jumanji (1995)</td>\n",
       "      <td>Adventure|Children|Fantasy</td>\n",
       "    </tr>\n",
       "    <tr>\n",
       "      <th>2</th>\n",
       "      <td>3</td>\n",
       "      <td>Grumpier Old Men (1995)</td>\n",
       "      <td>Comedy|Romance</td>\n",
       "    </tr>\n",
       "    <tr>\n",
       "      <th>3</th>\n",
       "      <td>4</td>\n",
       "      <td>Waiting to Exhale (1995)</td>\n",
       "      <td>Comedy|Drama|Romance</td>\n",
       "    </tr>\n",
       "    <tr>\n",
       "      <th>4</th>\n",
       "      <td>5</td>\n",
       "      <td>Father of the Bride Part II (1995)</td>\n",
       "      <td>Comedy</td>\n",
       "    </tr>\n",
       "  </tbody>\n",
       "</table>\n",
       "</div>"
      ],
      "text/plain": [
       "   MovieID                               Title  \\\n",
       "0        1                    Toy Story (1995)   \n",
       "1        2                      Jumanji (1995)   \n",
       "2        3             Grumpier Old Men (1995)   \n",
       "3        4            Waiting to Exhale (1995)   \n",
       "4        5  Father of the Bride Part II (1995)   \n",
       "\n",
       "                                        Genres  \n",
       "0  Adventure|Animation|Children|Comedy|Fantasy  \n",
       "1                   Adventure|Children|Fantasy  \n",
       "2                               Comedy|Romance  \n",
       "3                         Comedy|Drama|Romance  \n",
       "4                                       Comedy  "
      ]
     },
     "execution_count": 42,
     "metadata": {},
     "output_type": "execute_result"
    }
   ],
   "source": [
    "df_movies.head()"
   ]
  },
  {
   "cell_type": "code",
   "execution_count": 7,
   "id": "1870b785",
   "metadata": {},
   "outputs": [],
   "source": [
    "df_tags = pd.read_csv('ml-10M100K/tags.dat',sep=\"::\", names=[\"UserID\",\"MovieID\",\"Tag\",\"Timestamp\"], engine='python')"
   ]
  },
  {
   "cell_type": "code",
   "execution_count": 79,
   "id": "0b2b0493",
   "metadata": {},
   "outputs": [],
   "source": [
    "df_ratings = pd.read_csv('ml-10M100K/ratings.dat',sep=\"::\", names=[\"UserID\",\"MovieID\",\"Rating\",\"Timestamp\"], engine='python')"
   ]
  },
  {
   "cell_type": "code",
   "execution_count": 83,
   "id": "8326c494",
   "metadata": {},
   "outputs": [],
   "source": [
    "user_lyst = list(df_tags['UserID'].unique())"
   ]
  },
  {
   "cell_type": "code",
   "execution_count": 102,
   "id": "8dcdd278",
   "metadata": {},
   "outputs": [],
   "source": [
    "df_ratings = df_ratings[df_ratings['UserID'].isin(user_lyst)]"
   ]
  },
  {
   "cell_type": "code",
   "execution_count": 108,
   "id": "bfeea82b",
   "metadata": {},
   "outputs": [],
   "source": [
    "user_index = df_ratings.UserID.unique()\n",
    "user_index.sort()"
   ]
  },
  {
   "cell_type": "code",
   "execution_count": 118,
   "id": "497f2fc3",
   "metadata": {},
   "outputs": [],
   "source": [
    "index_dict = {}\n",
    "for i in range(len(user_index)):\n",
    "    index_dict[user_index[i]] = i"
   ]
  },
  {
   "cell_type": "code",
   "execution_count": 137,
   "id": "64e846d6",
   "metadata": {},
   "outputs": [],
   "source": [
    "item_index = df_ratings.MovieID.unique()\n",
    "item_index.sort()"
   ]
  },
  {
   "cell_type": "code",
   "execution_count": 138,
   "id": "a669c71a",
   "metadata": {},
   "outputs": [],
   "source": [
    "item_index_dict = {}\n",
    "for i in range(len(item_index)):\n",
    "    item_index_dict[item_index[i]] = i"
   ]
  },
  {
   "cell_type": "markdown",
   "id": "6be2d246",
   "metadata": {},
   "source": [
    "### building train_data and user_item matrix"
   ]
  },
  {
   "cell_type": "code",
   "execution_count": 112,
   "id": "fd2ec988",
   "metadata": {},
   "outputs": [],
   "source": [
    "n_users = len(df_ratings.UserID.unique())"
   ]
  },
  {
   "cell_type": "code",
   "execution_count": 113,
   "id": "05638a37",
   "metadata": {},
   "outputs": [],
   "source": [
    "from sklearn import model_selection as cv"
   ]
  },
  {
   "cell_type": "code",
   "execution_count": 187,
   "id": "99f7b017",
   "metadata": {},
   "outputs": [],
   "source": [
    "train_data, test_val_data = cv.train_test_split(df_ratings, test_size=0.25, random_state=42)\n",
    "valid_data, test_data = cv.train_test_split(test_val_data, test_size=0.6, random_state=42)"
   ]
  },
  {
   "cell_type": "code",
   "execution_count": 193,
   "id": "468edd20",
   "metadata": {},
   "outputs": [],
   "source": [
    "user_item_matrix = np.zeros((n_users, n_items))\n",
    "for row in train_data.itertuples():\n",
    "    user_item_matrix[index_dict[row[1]], item_index_dict[row[2]]] = row[3]\n",
    "    \n",
    "test_data_matrix = np.zeros((n_users, n_items))\n",
    "for row in test_data.itertuples():\n",
    "    test_data_matrix[index_dict[row[1]], item_index_dict[row[2]]] = row[3]"
   ]
  },
  {
   "cell_type": "code",
   "execution_count": 194,
   "id": "9d4de817",
   "metadata": {},
   "outputs": [],
   "source": [
    "from sklearn.metrics.pairwise import pairwise_distances"
   ]
  },
  {
   "cell_type": "code",
   "execution_count": 195,
   "id": "ecc3656c",
   "metadata": {},
   "outputs": [],
   "source": [
    "user_similarity = np.ones((n_users,n_users))-pairwise_distances(user_item_matrix, metric='cosine')"
   ]
  },
  {
   "cell_type": "code",
   "execution_count": 210,
   "id": "22ea7d3c",
   "metadata": {},
   "outputs": [
    {
     "data": {
      "text/plain": [
       "(2320, 2320)"
      ]
     },
     "execution_count": 210,
     "metadata": {},
     "output_type": "execute_result"
    }
   ],
   "source": [
    "user_similarity.shape"
   ]
  },
  {
   "cell_type": "markdown",
   "id": "99574f58",
   "metadata": {},
   "source": [
    "### Diffusion-Based Similarity"
   ]
  },
  {
   "cell_type": "code",
   "execution_count": 208,
   "id": "dc651a3e",
   "metadata": {},
   "outputs": [
    {
     "data": {
      "text/plain": [
       "16529"
      ]
     },
     "execution_count": 208,
     "metadata": {},
     "output_type": "execute_result"
    }
   ],
   "source": [
    "len(df_tags['Tag'].unique())"
   ]
  },
  {
   "cell_type": "code",
   "execution_count": 285,
   "id": "7bc3174a",
   "metadata": {},
   "outputs": [
    {
     "data": {
      "text/html": [
       "<div>\n",
       "<style scoped>\n",
       "    .dataframe tbody tr th:only-of-type {\n",
       "        vertical-align: middle;\n",
       "    }\n",
       "\n",
       "    .dataframe tbody tr th {\n",
       "        vertical-align: top;\n",
       "    }\n",
       "\n",
       "    .dataframe thead th {\n",
       "        text-align: right;\n",
       "    }\n",
       "</style>\n",
       "<table border=\"1\" class=\"dataframe\">\n",
       "  <thead>\n",
       "    <tr style=\"text-align: right;\">\n",
       "      <th></th>\n",
       "      <th>UserID</th>\n",
       "      <th>MovieID</th>\n",
       "      <th>Tag</th>\n",
       "      <th>Timestamp</th>\n",
       "    </tr>\n",
       "  </thead>\n",
       "  <tbody>\n",
       "    <tr>\n",
       "      <th>0</th>\n",
       "      <td>15</td>\n",
       "      <td>4973</td>\n",
       "      <td>excellent!</td>\n",
       "      <td>1215184630</td>\n",
       "    </tr>\n",
       "    <tr>\n",
       "      <th>1</th>\n",
       "      <td>20</td>\n",
       "      <td>1747</td>\n",
       "      <td>politics</td>\n",
       "      <td>1188263867</td>\n",
       "    </tr>\n",
       "    <tr>\n",
       "      <th>2</th>\n",
       "      <td>20</td>\n",
       "      <td>1747</td>\n",
       "      <td>satire</td>\n",
       "      <td>1188263867</td>\n",
       "    </tr>\n",
       "    <tr>\n",
       "      <th>3</th>\n",
       "      <td>20</td>\n",
       "      <td>2424</td>\n",
       "      <td>chick flick 212</td>\n",
       "      <td>1188263835</td>\n",
       "    </tr>\n",
       "    <tr>\n",
       "      <th>4</th>\n",
       "      <td>20</td>\n",
       "      <td>2424</td>\n",
       "      <td>hanks</td>\n",
       "      <td>1188263835</td>\n",
       "    </tr>\n",
       "  </tbody>\n",
       "</table>\n",
       "</div>"
      ],
      "text/plain": [
       "   UserID  MovieID              Tag   Timestamp\n",
       "0      15     4973       excellent!  1215184630\n",
       "1      20     1747         politics  1188263867\n",
       "2      20     1747           satire  1188263867\n",
       "3      20     2424  chick flick 212  1188263835\n",
       "4      20     2424            hanks  1188263835"
      ]
     },
     "execution_count": 285,
     "metadata": {},
     "output_type": "execute_result"
    }
   ],
   "source": [
    "df_tags.head()"
   ]
  },
  {
   "cell_type": "code",
   "execution_count": 256,
   "id": "86bf37d7",
   "metadata": {},
   "outputs": [],
   "source": [
    "sim_user_item = np.zeros((n_users, n_users))"
   ]
  },
  {
   "cell_type": "code",
   "execution_count": 257,
   "id": "5bb4e685",
   "metadata": {
    "scrolled": false
   },
   "outputs": [],
   "source": [
    "for i, group in df_tags.groupby(\"MovieID\"):\n",
    "    length = len(group)\n",
    "    for j in range(length-1):\n",
    "        for k in range(j+1, length):         \n",
    "            user1, user2 = group.iloc[j,0], group.iloc[k,0]\n",
    "            if user1 in index_dict and user2 in index_dict:\n",
    "                user1_index = index_dict[user1]\n",
    "                user2_index = index_dict[user2]\n",
    "\n",
    "                sim_user_item[user1_index][user2_index] += 1/length\n",
    "                sim_user_item[user2_index][user1_index] += 1/length"
   ]
  },
  {
   "cell_type": "markdown",
   "id": "f4885040",
   "metadata": {},
   "source": [
    "### user tag matrix"
   ]
  },
  {
   "cell_type": "code",
   "execution_count": 258,
   "id": "4cbc8294",
   "metadata": {},
   "outputs": [],
   "source": [
    "sim_user_tag = np.zeros((n_users, n_users))"
   ]
  },
  {
   "cell_type": "code",
   "execution_count": 259,
   "id": "b748ecb5",
   "metadata": {},
   "outputs": [],
   "source": [
    "for i, group in df_tags.groupby(\"Tag\"):\n",
    "    length = len(group)\n",
    "    for j in range(length-1):\n",
    "        for k in range(j+1, length):         \n",
    "            user1, user2 = group.iloc[j,0], group.iloc[k,0]\n",
    "            if user1 in index_dict and user2 in index_dict:\n",
    "                user1_index = index_dict[user1]\n",
    "                user2_index = index_dict[user2]\n",
    "\n",
    "                sim_user_tag[user1_index][user2_index] += 1/length\n",
    "                sim_user_tag[user2_index][user1_index] += 1/length"
   ]
  },
  {
   "cell_type": "code",
   "execution_count": 228,
   "id": "0d707c97",
   "metadata": {},
   "outputs": [],
   "source": [
    "user_degree_tags = df_tags.groupby(\"UserID\").size()\n",
    "for i in range(n_users):\n",
    "    for j in range(n_users):\n",
    "        if sim_user_tag[i][j]:\n",
    "            degree_j = user_degree_tags[user_index[j]]\n",
    "            sim_user_tag[i][j] /= degree_j\n",
    "       \n",
    "        if sim_user_item[i][j]:\n",
    "            degree_j = user_degree_tags[user_index[j]]\n",
    "            sim_user_item[i][j] /= degree_j"
   ]
  },
  {
   "cell_type": "code",
   "execution_count": 280,
   "id": "3461009a",
   "metadata": {},
   "outputs": [],
   "source": [
    "diffusion_based_similarity = 0.05*user_similarity + 0.95*sim_user_item"
   ]
  },
  {
   "cell_type": "code",
   "execution_count": 291,
   "id": "7fac62b2",
   "metadata": {},
   "outputs": [],
   "source": [
    "λ = [0.2,0.15,0.1,0.05,0.01]\n",
    "rmse_diffusion_based = []\n",
    "for h in λ:\n",
    "    diffusion_based_similarity = h*user_similarity + (1-h)*sim_user_item\n",
    "    diffusion_based_prediction = cf_predict(user_item_matrix, diffusion_based_similarity, type='user')\n",
    "    rmse_diffusion_based.append(rmse(diffusion_based_prediction, test_data_matrix))"
   ]
  },
  {
   "cell_type": "code",
   "execution_count": 292,
   "id": "95ada5e4",
   "metadata": {},
   "outputs": [
    {
     "data": {
      "text/plain": [
       "[2.8738720443716015,\n",
       " 2.8735847622165513,\n",
       " 2.873108011239196,\n",
       " 2.8720947278439724,\n",
       " 2.8688815459115875]"
      ]
     },
     "execution_count": 292,
     "metadata": {},
     "output_type": "execute_result"
    }
   ],
   "source": [
    "rmse_diffusion_based"
   ]
  },
  {
   "cell_type": "code",
   "execution_count": 298,
   "id": "e3b674c0",
   "metadata": {},
   "outputs": [],
   "source": [
    "from matplotlib import pyplot as plt"
   ]
  },
  {
   "cell_type": "code",
   "execution_count": 330,
   "id": "92fcc4a8",
   "metadata": {},
   "outputs": [],
   "source": [
    "plt.rcParams[\"figure.figsize\"] = (10,8)"
   ]
  },
  {
   "cell_type": "code",
   "execution_count": 339,
   "id": "ebe2a7cc",
   "metadata": {},
   "outputs": [
    {
     "data": {
      "text/html": [
       "<div>\n",
       "<style scoped>\n",
       "    .dataframe tbody tr th:only-of-type {\n",
       "        vertical-align: middle;\n",
       "    }\n",
       "\n",
       "    .dataframe tbody tr th {\n",
       "        vertical-align: top;\n",
       "    }\n",
       "\n",
       "    .dataframe thead th {\n",
       "        text-align: right;\n",
       "    }\n",
       "</style>\n",
       "<table border=\"1\" class=\"dataframe\">\n",
       "  <thead>\n",
       "    <tr style=\"text-align: right;\">\n",
       "      <th></th>\n",
       "      <th>UserID</th>\n",
       "      <th>MovieID</th>\n",
       "      <th>Tag</th>\n",
       "      <th>Timestamp</th>\n",
       "    </tr>\n",
       "  </thead>\n",
       "  <tbody>\n",
       "    <tr>\n",
       "      <th>0</th>\n",
       "      <td>15</td>\n",
       "      <td>4973</td>\n",
       "      <td>excellent!</td>\n",
       "      <td>1215184630</td>\n",
       "    </tr>\n",
       "    <tr>\n",
       "      <th>1</th>\n",
       "      <td>20</td>\n",
       "      <td>1747</td>\n",
       "      <td>politics</td>\n",
       "      <td>1188263867</td>\n",
       "    </tr>\n",
       "    <tr>\n",
       "      <th>2</th>\n",
       "      <td>20</td>\n",
       "      <td>1747</td>\n",
       "      <td>satire</td>\n",
       "      <td>1188263867</td>\n",
       "    </tr>\n",
       "    <tr>\n",
       "      <th>3</th>\n",
       "      <td>20</td>\n",
       "      <td>2424</td>\n",
       "      <td>chick flick 212</td>\n",
       "      <td>1188263835</td>\n",
       "    </tr>\n",
       "    <tr>\n",
       "      <th>4</th>\n",
       "      <td>20</td>\n",
       "      <td>2424</td>\n",
       "      <td>hanks</td>\n",
       "      <td>1188263835</td>\n",
       "    </tr>\n",
       "  </tbody>\n",
       "</table>\n",
       "</div>"
      ],
      "text/plain": [
       "   UserID  MovieID              Tag   Timestamp\n",
       "0      15     4973       excellent!  1215184630\n",
       "1      20     1747         politics  1188263867\n",
       "2      20     1747           satire  1188263867\n",
       "3      20     2424  chick flick 212  1188263835\n",
       "4      20     2424            hanks  1188263835"
      ]
     },
     "execution_count": 339,
     "metadata": {},
     "output_type": "execute_result"
    }
   ],
   "source": [
    "df_tags.head()"
   ]
  },
  {
   "cell_type": "code",
   "execution_count": 338,
   "id": "8fc4558d",
   "metadata": {},
   "outputs": [
    {
     "data": {
      "image/png": "[encoded data removed]",
      "text/plain": [
       "<Figure size 720x576 with 1 Axes>"
      ]
     },
     "metadata": {
      "needs_background": "light"
     },
     "output_type": "display_data"
    }
   ],
   "source": [
    "plt.plot(λ,rmse_diffusion_based)\n",
    "plt.axhline(y = 2.87426, color = 'r', linestyle = '-')\n",
    "plt.annotate(\"user-based rmse: 2.87426\", xy=(0.01,2.8738), fontsize=15)\n",
    "\n",
    "plt.xlabel(\"λ\",fontsize=12)\n",
    "plt.ylabel(\"rmse\",fontsize=12)\n",
    "plt.title(\"Comparsion between the rmse of user-user cf and diffusion based user-user cf\", fontsize=12)\n",
    "plt.savefig('diffusion_based_rmse.png')\n",
    "plt.show()"
   ]
  },
  {
   "cell_type": "code",
   "execution_count": 337,
   "id": "0efcdca9",
   "metadata": {},
   "outputs": [
    {
     "data": {
      "text/plain": [
       "<Figure size 720x576 with 0 Axes>"
      ]
     },
     "metadata": {},
     "output_type": "display_data"
    }
   ],
   "source": [
    "plt.savefig('diffusion_based.png')"
   ]
  },
  {
   "cell_type": "code",
   "execution_count": 281,
   "id": "bfdcc884",
   "metadata": {},
   "outputs": [],
   "source": [
    "def cf_predict(ratings, similarity, type='user'):\n",
    "    if type == 'user':\n",
    "        mean_user_rating = ratings.mean(axis=1)\n",
    "        ratings_diff = (ratings - mean_user_rating[:, np.newaxis])\n",
    "        pred = mean_user_rating[:, np.newaxis] + similarity.dot(ratings_diff) / np.array([np.abs(similarity).sum(axis=1)]).T\n",
    "    elif type == 'item':\n",
    "        pred = ratings.dot(similarity) / np.array([np.abs(similarity).sum(axis=1)])    \n",
    "    return pred"
   ]
  },
  {
   "cell_type": "code",
   "execution_count": 282,
   "id": "66b08ad1",
   "metadata": {},
   "outputs": [],
   "source": [
    "user_based_prediction = cf_predict(user_item_matrix, user_similarity, type='user')"
   ]
  },
  {
   "cell_type": "code",
   "execution_count": 283,
   "id": "0c1ea5e4",
   "metadata": {},
   "outputs": [],
   "source": [
    "diffusion_based_prediction = cf_predict(user_item_matrix, diffusion_based_similarity, type='user')"
   ]
  },
  {
   "cell_type": "code",
   "execution_count": 278,
   "id": "a99c32b2",
   "metadata": {},
   "outputs": [],
   "source": [
    "from sklearn.metrics import mean_squared_error\n",
    "from math import sqrt\n",
    "def rmse(prediction, test_data_matrix):\n",
    "    prediction = prediction[test_data_matrix.nonzero()].flatten()\n",
    "    truth = test_data_matrix[test_data_matrix.nonzero()].flatten()\n",
    "    return sqrt(mean_squared_error(prediction, truth))"
   ]
  },
  {
   "cell_type": "code",
   "execution_count": 284,
   "id": "1c636d57",
   "metadata": {},
   "outputs": [
    {
     "name": "stdout",
     "output_type": "stream",
     "text": [
      "rmse for user based collaborative: 2.874259156544976\n",
      "rmse for diffusion based collaborative: 2.8720947278439724\n"
     ]
    }
   ],
   "source": [
    "print('rmse for user based collaborative: {}'.format(rmse(user_based_prediction, test_data_matrix)))\n",
    "print('rmse for diffusion based collaborative: {}'.format(rmse(diffusion_based_prediction, test_data_matrix)))"
   ]
  },
  {
   "cell_type": "code",
   "execution_count": 342,
   "id": "cdd9fa32",
   "metadata": {},
   "outputs": [
    {
     "data": {
      "text/plain": [
       "4009"
      ]
     },
     "execution_count": 342,
     "metadata": {},
     "output_type": "execute_result"
    }
   ],
   "source": [
    "len(df_tags['UserID'].unique())"
   ]
  }
 ],
 "metadata": {
  "kernelspec": {
   "display_name": "Python 3 (ipykernel)",
   "language": "python",
   "name": "python3"
  },
  "language_info": {
   "codemirror_mode": {
    "name": "ipython",
    "version": 3
   },
   "file_extension": ".py",
   "mimetype": "text/x-python",
   "name": "python",
   "nbconvert_exporter": "python",
   "pygments_lexer": "ipython3",
   "version": "3.8.8"
  }
 },
 "nbformat": 4,
 "nbformat_minor": 5
}
